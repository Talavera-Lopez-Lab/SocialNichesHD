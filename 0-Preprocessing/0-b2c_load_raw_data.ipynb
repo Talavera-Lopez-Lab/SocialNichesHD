{
 "cells": [
  {
   "cell_type": "markdown",
   "metadata": {},
   "source": [
    "# Notebook reading VisiumHD Dataset of Mouse Lung using bin2cell\n",
    "- Dataset: https://www.10xgenomics.com/datasets/visium-hd-cytassist-gene-expression-mouse-lung-fresh-frozen\n",
    "- Created by: Christian Eger\n",
    "- Created on: 19th of November 2024\n",
    "- Environment: bin2cell-env\n",
    "\n",
    "Bin2cell provides solutions for both reading VisiumHD datasets and aggregating its spots to cells."
   ]
  },
  {
   "cell_type": "code",
   "execution_count": 38,
   "metadata": {},
   "outputs": [],
   "source": [
    "from pathlib import Path\n",
    "from datetime import datetime\n",
    "\n",
    "import bin2cell as b2c\n",
    "import scanpy as sc\n",
    "import pandas as pd\n",
    "import numpy as np"
   ]
  },
  {
   "cell_type": "code",
   "execution_count": 64,
   "metadata": {},
   "outputs": [],
   "source": [
    "notebook_name = \"0-b2c_load_raw_data.ipynb\" \n",
    "notebook_path = Path.cwd() / notebook_name\n",
    "notebook_execution_time = datetime.now().strftime(\"%Y-%m-%d_%H-%M-%S\")\n",
    "repo_path = Path.cwd().parent\n",
    "data_folder_path = repo_path / \".data\"\n",
    "\n",
    "spatial_data_path = data_folder_path / \"raw\" / \"VisiumHD_Mouse_Lung\" / \"binned_outputs\" / \"square_016um\"\n",
    "adata_path = data_folder_path / \"processed\" / \"preprocessing\" / \"2024-11-05_19-08-36_VisiumHD_mouse_lung_square_002um.h5ad\"\n"
   ]
  },
  {
   "cell_type": "code",
   "execution_count": 85,
   "metadata": {},
   "outputs": [
    {
     "name": "stderr",
     "output_type": "stream",
     "text": [
      "anndata.py (1756): Variable names are not unique. To make them unique, call `.var_names_make_unique`.\n",
      "anndata.py (1756): Variable names are not unique. To make them unique, call `.var_names_make_unique`.\n"
     ]
    },
    {
     "data": {
      "text/plain": [
       "AnnData object with n_obs × n_vars = 145323 × 17748\n",
       "    obs: 'in_tissue', 'array_row', 'array_col', 'n_counts'\n",
       "    var: 'gene_ids', 'feature_types', 'genome', 'n_cells'\n",
       "    uns: 'spatial', 'log'\n",
       "    obsm: 'spatial'"
      ]
     },
     "execution_count": 85,
     "metadata": {},
     "output_type": "execute_result"
    }
   ],
   "source": [
    "# Reading Data\n",
    "adata = b2c.read_visium(spatial_data_path, source_image_path=data_folder_path / \"raw\" / \"VisiumHD_Mouse_Lung\" / \"Visium_HD_Mouse_Lung_Fresh_Frozen_tissue_image.tif\")\n",
    "adata.var_names_make_unique()\n",
    "adata.uns[\"log\"] = {\n",
    "    \"dataset_name\": \"VisiumHD_mouse_lung\"\n",
    "}\n",
    "adata.uns[\"log\"][notebook_execution_time] = {\n",
    "    \"notebook_path\": notebook_path,\n",
    "    \"processing_steps\": str(),\n",
    "}\n",
    "\n",
    "# Filtering Data\n",
    "sc.pp.filter_genes(adata, min_cells=3)\n",
    "sc.pp.filter_cells(adata, min_counts=1)\n",
    "adata.uns[\"log\"][notebook_execution_time][\"processing_steps\"] += \\\n",
    "\"var_names_make_unique\\n\\\n",
    "filter_genes, min_cells=3\\n\\\n",
    "filter_cells, min_counts=1\\n\"\n",
    "adata"
   ]
  },
  {
   "cell_type": "code",
   "execution_count": 75,
   "metadata": {},
   "outputs": [
    {
     "name": "stdout",
     "output_type": "stream",
     "text": [
      "var_names_make_unique\n",
      "filter_genes, min_cells=3\n",
      "filter_cells, min_counts=1\n",
      "\n"
     ]
    }
   ],
   "source": [
    "print(adata.uns[\"log\"][notebook_execution_time][\"processing_steps\"])"
   ]
  },
  {
   "cell_type": "code",
   "execution_count": 76,
   "metadata": {},
   "outputs": [
    {
     "data": {
      "text/plain": [
       "{'Visium_HD_Mouse_Lung_Fresh_Frozen': {'images': {'hires': array([[[0.9411765 , 0.9372549 , 0.9529412 ],\n",
       "           [0.9411765 , 0.9372549 , 0.9490196 ],\n",
       "           [0.9411765 , 0.9372549 , 0.9529412 ],\n",
       "           ...,\n",
       "           [0.9372549 , 0.9372549 , 0.9490196 ],\n",
       "           [0.9411765 , 0.9372549 , 0.9529412 ],\n",
       "           [0.9411765 , 0.93333334, 0.9490196 ]],\n",
       "   \n",
       "          [[0.9372549 , 0.9372549 , 0.9529412 ],\n",
       "           [0.9372549 , 0.9372549 , 0.9529412 ],\n",
       "           [0.9411765 , 0.9372549 , 0.9490196 ],\n",
       "           ...,\n",
       "           [0.9372549 , 0.93333334, 0.9490196 ],\n",
       "           [0.9411765 , 0.9372549 , 0.9529412 ],\n",
       "           [0.9372549 , 0.9372549 , 0.9490196 ]],\n",
       "   \n",
       "          [[0.9372549 , 0.9372549 , 0.9529412 ],\n",
       "           [0.9411765 , 0.9411765 , 0.9490196 ],\n",
       "           [0.9411765 , 0.9372549 , 0.9490196 ],\n",
       "           ...,\n",
       "           [0.93333334, 0.93333334, 0.94509804],\n",
       "           [0.9372549 , 0.93333334, 0.9490196 ],\n",
       "           [0.9372549 , 0.9372549 , 0.9490196 ]],\n",
       "   \n",
       "          ...,\n",
       "   \n",
       "          [[0.9372549 , 0.93333334, 0.9490196 ],\n",
       "           [0.9372549 , 0.93333334, 0.94509804],\n",
       "           [0.93333334, 0.92941177, 0.94509804],\n",
       "           ...,\n",
       "           [0.93333334, 0.9254902 , 0.94509804],\n",
       "           [0.93333334, 0.9254902 , 0.9411765 ],\n",
       "           [0.92941177, 0.9254902 , 0.9411765 ]],\n",
       "   \n",
       "          [[0.9372549 , 0.92941177, 0.94509804],\n",
       "           [0.93333334, 0.92941177, 0.94509804],\n",
       "           [0.93333334, 0.92941177, 0.94509804],\n",
       "           ...,\n",
       "           [0.92941177, 0.9254902 , 0.9411765 ],\n",
       "           [0.93333334, 0.92941177, 0.94509804],\n",
       "           [0.93333334, 0.92941177, 0.9411765 ]],\n",
       "   \n",
       "          [[0.93333334, 0.93333334, 0.9411765 ],\n",
       "           [0.9372549 , 0.92941177, 0.94509804],\n",
       "           [0.93333334, 0.92941177, 0.94509804],\n",
       "           ...,\n",
       "           [0.93333334, 0.9254902 , 0.9411765 ],\n",
       "           [0.93333334, 0.9254902 , 0.9411765 ],\n",
       "           [0.92941177, 0.92941177, 0.9411765 ]]], dtype=float32),\n",
       "   'lowres': array([[[0.9411765 , 0.9372549 , 0.9490196 ],\n",
       "           [0.9411765 , 0.9372549 , 0.9529412 ],\n",
       "           [0.9411765 , 0.9411765 , 0.9529412 ],\n",
       "           ...,\n",
       "           [0.9411765 , 0.9372549 , 0.9529412 ],\n",
       "           [0.9411765 , 0.9372549 , 0.9529412 ],\n",
       "           [0.9372549 , 0.93333334, 0.9490196 ]],\n",
       "   \n",
       "          [[0.9411765 , 0.9372549 , 0.9490196 ],\n",
       "           [0.9411765 , 0.9372549 , 0.9529412 ],\n",
       "           [0.9411765 , 0.9372549 , 0.9529412 ],\n",
       "           ...,\n",
       "           [0.9411765 , 0.9372549 , 0.9529412 ],\n",
       "           [0.9411765 , 0.9372549 , 0.9529412 ],\n",
       "           [0.9372549 , 0.93333334, 0.9490196 ]],\n",
       "   \n",
       "          [[0.9411765 , 0.9372549 , 0.9529412 ],\n",
       "           [0.9411765 , 0.9372549 , 0.9529412 ],\n",
       "           [0.9411765 , 0.9411765 , 0.9529412 ],\n",
       "           ...,\n",
       "           [0.9411765 , 0.9372549 , 0.9529412 ],\n",
       "           [0.9411765 , 0.9372549 , 0.9529412 ],\n",
       "           [0.9372549 , 0.93333334, 0.9490196 ]],\n",
       "   \n",
       "          ...,\n",
       "   \n",
       "          [[0.9372549 , 0.93333334, 0.9490196 ],\n",
       "           [0.9372549 , 0.93333334, 0.9490196 ],\n",
       "           [0.9411765 , 0.93333334, 0.9490196 ],\n",
       "           ...,\n",
       "           [0.9372549 , 0.92941177, 0.94509804],\n",
       "           [0.93333334, 0.9254902 , 0.94509804],\n",
       "           [0.93333334, 0.9254902 , 0.9411765 ]],\n",
       "   \n",
       "          [[0.9372549 , 0.93333334, 0.94509804],\n",
       "           [0.9372549 , 0.93333334, 0.9490196 ],\n",
       "           [0.9372549 , 0.93333334, 0.9490196 ],\n",
       "           ...,\n",
       "           [0.9372549 , 0.9254902 , 0.94509804],\n",
       "           [0.93333334, 0.9254902 , 0.94509804],\n",
       "           [0.93333334, 0.9254902 , 0.94509804]],\n",
       "   \n",
       "          [[0.9372549 , 0.92941177, 0.94509804],\n",
       "           [0.9372549 , 0.93333334, 0.94509804],\n",
       "           [0.9372549 , 0.93333334, 0.9490196 ],\n",
       "           ...,\n",
       "           [0.93333334, 0.9254902 , 0.94509804],\n",
       "           [0.93333334, 0.9254902 , 0.94509804],\n",
       "           [0.93333334, 0.9254902 , 0.9411765 ]]], dtype=float32)},\n",
       "  'scalefactors': {'spot_diameter_fullres': 58.44333315586581,\n",
       "   'bin_size_um': 16.0,\n",
       "   'microns_per_pixel': 0.27376946412910264,\n",
       "   'tissue_lowres_scalef': 0.010077598,\n",
       "   'fiducial_diameter_fullres': 1205.3937463397322,\n",
       "   'tissue_hires_scalef': 0.10077597,\n",
       "   'regist_target_img_scalef': 0.10077597},\n",
       "  'metadata': {'chemistry_description': 'Visium HD v1',\n",
       "   'software_version': 'spaceranger-3.1.1',\n",
       "   'source_image_path': '/mnt/LaCIE/ceger/Projects/SocialNichesHD/.data/Visium_HD_Mouse_Lung_Fresh_Frozen_tissue_image.tif'}}}"
      ]
     },
     "execution_count": 76,
     "metadata": {},
     "output_type": "execute_result"
    }
   ],
   "source": [
    "adata.uns[\"spatial\"]"
   ]
  },
  {
   "cell_type": "code",
   "execution_count": 78,
   "metadata": {},
   "outputs": [
    {
     "data": {
      "text/plain": [
       "'Visium_HD_Mouse_Lung_Fresh_Frozen'"
      ]
     },
     "execution_count": 78,
     "metadata": {},
     "output_type": "execute_result"
    }
   ],
   "source": [
    "list(adata.uns[\"spatial\"].keys())[0]"
   ]
  },
  {
   "cell_type": "code",
   "execution_count": 86,
   "metadata": {},
   "outputs": [],
   "source": [
    "mpp = 0.5\n",
    "b2c.scaled_he_image(adata, mpp=mpp, save_path=\"stardist/he.tiff\")"
   ]
  },
  {
   "cell_type": "code",
   "execution_count": 87,
   "metadata": {},
   "outputs": [
    {
     "data": {
      "text/plain": [
       "AnnData object with n_obs × n_vars = 145323 × 17748\n",
       "    obs: 'in_tissue', 'array_row', 'array_col', 'n_counts'\n",
       "    var: 'gene_ids', 'feature_types', 'genome', 'n_cells'\n",
       "    uns: 'spatial', 'log'\n",
       "    obsm: 'spatial', 'spatial_cropped'"
      ]
     },
     "execution_count": 87,
     "metadata": {},
     "output_type": "execute_result"
    }
   ],
   "source": [
    "adata"
   ]
  },
  {
   "cell_type": "code",
   "execution_count": 82,
   "metadata": {},
   "outputs": [
    {
     "data": {
      "text/plain": [
       "'/mnt/LaCIE/ceger/Projects/SocialNichesHD/.data/Visium_HD_Mouse_Lung_Fresh_Frozen_tissue_image.tif'"
      ]
     },
     "execution_count": 82,
     "metadata": {},
     "output_type": "execute_result"
    }
   ],
   "source": [
    "adata.uns[\"spatial\"]['Visium_HD_Mouse_Lung_Fresh_Frozen'][\"metadata\"][\"source_image_path\"]"
   ]
  }
 ],
 "metadata": {
  "kernelspec": {
   "display_name": "bin2cell-env",
   "language": "python",
   "name": "python3"
  },
  "language_info": {
   "codemirror_mode": {
    "name": "ipython",
    "version": 3
   },
   "file_extension": ".py",
   "mimetype": "text/x-python",
   "name": "python",
   "nbconvert_exporter": "python",
   "pygments_lexer": "ipython3",
   "version": "3.10.15"
  }
 },
 "nbformat": 4,
 "nbformat_minor": 2
}
