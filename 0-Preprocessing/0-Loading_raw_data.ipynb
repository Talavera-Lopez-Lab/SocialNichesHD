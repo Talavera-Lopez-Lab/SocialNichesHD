{
 "cells": [
  {
   "cell_type": "markdown",
   "metadata": {},
   "source": [
    "# Notebook reading VisiumHD Dataset of Mouse Lung\n",
    "- Dataset: https://www.10xgenomics.com/datasets/visium-hd-cytassist-gene-expression-mouse-lung-fresh-frozen\n",
    "- Created by: Christian Eger\n",
    "- Created on: 5th of November 2024\n",
    "- Environment: environments/squidpy-env\n",
    "\n",
    "Loading VisiumHD datasets mapped with SpaceRanger can be achieved with spatialdata_io.visiumhd. To convert the dataset to the anndata format expected for NicheCompass we additionally need to run to_legacy_anndata."
   ]
  },
  {
   "cell_type": "markdown",
   "metadata": {},
   "source": [
    "## Setup"
   ]
  },
  {
   "cell_type": "markdown",
   "metadata": {},
   "source": [
    "### Import modules"
   ]
  },
  {
   "cell_type": "code",
   "execution_count": 8,
   "metadata": {},
   "outputs": [],
   "source": [
    "from pathlib import Path\n",
    "import spatialdata_io\n",
    "from spatialdata_io.converters import legacy_anndata\n",
    "from datetime import datetime"
   ]
  },
  {
   "cell_type": "markdown",
   "metadata": {},
   "source": [
    "### Setup paths"
   ]
  },
  {
   "cell_type": "code",
   "execution_count": 9,
   "metadata": {},
   "outputs": [],
   "source": [
    "notebook_path = Path.cwd() / \"0-Loading_raw_data.ipynb\"\n",
    "notebook_execution_time = datetime.now().strftime(\"%Y-%m-%d_%H-%M-%S\")\n",
    "repo_path = Path.cwd().parent\n",
    "data_folder_path = repo_path / \".data\""
   ]
  },
  {
   "cell_type": "markdown",
   "metadata": {},
   "source": [
    "## Processing"
   ]
  },
  {
   "cell_type": "code",
   "execution_count": 10,
   "metadata": {},
   "outputs": [
    {
     "name": "stderr",
     "output_type": "stream",
     "text": [
      "/home/ceger/miniforge3/envs/squidpy-env/lib/python3.11/site-packages/anndata/_core/anndata.py:1820: UserWarning: Variable names are not unique. To make them unique, call `.var_names_make_unique`.\n",
      "  utils.warn_names_duplicates(\"var\")\n",
      "/home/ceger/miniforge3/envs/squidpy-env/lib/python3.11/site-packages/anndata/_core/anndata.py:1820: UserWarning: Variable names are not unique. To make them unique, call `.var_names_make_unique`.\n",
      "  utils.warn_names_duplicates(\"var\")\n",
      "/home/ceger/miniforge3/envs/squidpy-env/lib/python3.11/site-packages/anndata/_core/anndata.py:1820: UserWarning: Variable names are not unique. To make them unique, call `.var_names_make_unique`.\n",
      "  utils.warn_names_duplicates(\"var\")\n",
      "/tmp/ipykernel_731815/840793048.py:4: UserWarning: No full resolution image found. If incorrect, please specify the path in the `fullres_image_file` parameter when calling the `visium_hd` reader function.\n",
      "  sdata = spatialdata_io.visium_hd(sdata_path)\n",
      "/home/ceger/miniforge3/envs/squidpy-env/lib/python3.11/site-packages/anndata/_core/anndata.py:1820: UserWarning: Variable names are not unique. To make them unique, call `.var_names_make_unique`.\n",
      "  utils.warn_names_duplicates(\"var\")\n",
      "/home/ceger/miniforge3/envs/squidpy-env/lib/python3.11/site-packages/anndata/_core/anndata.py:1820: UserWarning: Variable names are not unique. To make them unique, call `.var_names_make_unique`.\n",
      "  utils.warn_names_duplicates(\"var\")\n",
      "/home/ceger/miniforge3/envs/squidpy-env/lib/python3.11/site-packages/anndata/_core/anndata.py:1820: UserWarning: Variable names are not unique. To make them unique, call `.var_names_make_unique`.\n",
      "  utils.warn_names_duplicates(\"var\")\n",
      "/home/ceger/miniforge3/envs/squidpy-env/lib/python3.11/site-packages/anndata/_core/anndata.py:1820: UserWarning: Variable names are not unique. To make them unique, call `.var_names_make_unique`.\n",
      "  utils.warn_names_duplicates(\"var\")\n",
      "/home/ceger/miniforge3/envs/squidpy-env/lib/python3.11/site-packages/anndata/_core/anndata.py:1820: UserWarning: Variable names are not unique. To make them unique, call `.var_names_make_unique`.\n",
      "  utils.warn_names_duplicates(\"var\")\n"
     ]
    }
   ],
   "source": [
    "spot_resolution = \"square_002um\"\n",
    "images_resolution = \"downscaled_hires\"\n",
    "sdata_path = data_folder_path / \"raw\" / \"VisiumHD_Mouse_Lung\" \n",
    "sdata = spatialdata_io.visium_hd(sdata_path)\n",
    "adata = legacy_anndata.to_legacy_anndata(sdata, coordinate_system=images_resolution, table_name=spot_resolution, include_images=True)\n",
    "adata.var_names_make_unique()\n",
    "adata"
   ]
  },
  {
   "cell_type": "markdown",
   "metadata": {},
   "source": [
    "## Export"
   ]
  },
  {
   "cell_type": "markdown",
   "metadata": {},
   "source": [
    "### Create Processing logs"
   ]
  },
  {
   "cell_type": "code",
   "execution_count": null,
   "metadata": {},
   "outputs": [],
   "source": [
    "adata.uns[\"log\"] = {\n",
    "    \"dataset_name\": \"VisiumHD_mouse_lung\"\n",
    "}"
   ]
  },
  {
   "cell_type": "code",
   "execution_count": null,
   "metadata": {},
   "outputs": [],
   "source": [
    "logging_message = f\"\\\n",
    "VisiumHD mouse lung data was downloaded from https://www.10xgenomics.com/datasets/visium-hd-cytassist-gene-expression-mouse-lung-fresh-frozen, \\\n",
    "read via spatialdata_io.visiumhd and converted to an anndata object at resolution {spot_resolution}\\\n",
    "\"\n",
    "output_path = data_folder_path / \"processed\" / \"preprocessing\" / f'{notebook_execution_time}_{adata.uns[\"log\"][\"dataset_name\"]}_{spot_resolution}.h5ad'\n",
    "adata.uns[\"log\"][notebook_execution_time] = {\n",
    "    \"script\": str(notebook_path),\n",
    "    \"logging_message\": logging_message,\n",
    "    \"input_file\": str(sdata_path),\n",
    "    \"output_file\": str(output_path),\n",
    "}"
   ]
  },
  {
   "cell_type": "markdown",
   "metadata": {},
   "source": [
    "### Save file"
   ]
  },
  {
   "cell_type": "code",
   "execution_count": null,
   "metadata": {},
   "outputs": [],
   "source": [
    "adata.write_h5ad(adata.uns[\"log\"][notebook_execution_time][\"output_file\"])"
   ]
  }
 ],
 "metadata": {
  "kernelspec": {
   "display_name": "squidpy-env",
   "language": "python",
   "name": "python3"
  },
  "language_info": {
   "codemirror_mode": {
    "name": "ipython",
    "version": 3
   },
   "file_extension": ".py",
   "mimetype": "text/x-python",
   "name": "python",
   "nbconvert_exporter": "python",
   "pygments_lexer": "ipython3",
   "version": "3.11.10"
  }
 },
 "nbformat": 4,
 "nbformat_minor": 2
}
