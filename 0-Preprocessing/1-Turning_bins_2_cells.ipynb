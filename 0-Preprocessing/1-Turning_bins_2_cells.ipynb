{
 "cells": [
  {
   "cell_type": "markdown",
   "metadata": {},
   "source": [
    "# Notebook reading VisiumHD Dataset of Mouse Lung\n",
    "- Dataset: https://www.10xgenomics.com/datasets/visium-hd-cytassist-gene-expression-mouse-lung-fresh-frozen\n",
    "- Created by: Christian Eger\n",
    "- Created on: 5th of November 2024\n",
    "- Environment: environments/squidpy-env\n",
    "\n",
    "Loading VisiumHD datasets mapped with SpaceRanger can be achieved with spatialdata_io.visiumhd. To convert the dataset to the anndata format expected for NicheCompass we additionally need to run to_legacy_anndata."
   ]
  },
  {
   "cell_type": "markdown",
   "metadata": {},
   "source": [
    "## Setup"
   ]
  },
  {
   "cell_type": "markdown",
   "metadata": {},
   "source": [
    "### Import modules"
   ]
  },
  {
   "cell_type": "markdown",
   "metadata": {},
   "source": [
    "### Setup paths"
   ]
  },
  {
   "cell_type": "code",
   "execution_count": null,
   "metadata": {
    "vscode": {
     "languageId": "plaintext"
    }
   },
   "outputs": [],
   "source": [
    "notebook_path = Path.cwd() / \"0-Loading_raw_data.ipynb\"\n",
    "notebook_execution_time = datetime.now().strftime(\"%Y-%m-%d_%H-%M-%S\")\n",
    "repo_path = Path.cwd().parent\n",
    "data_folder_path = repo_path / \".data\""
   ]
  }
 ],
 "metadata": {
  "language_info": {
   "name": "python"
  }
 },
 "nbformat": 4,
 "nbformat_minor": 2
}
